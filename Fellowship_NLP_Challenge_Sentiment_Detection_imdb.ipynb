{
 "cells": [
  {
   "cell_type": "markdown",
   "metadata": {},
   "source": [
    "### Importing the libraries"
   ]
  },
  {
   "cell_type": "code",
   "execution_count": 1,
   "metadata": {},
   "outputs": [],
   "source": [
    "import re\n",
    "import os\n",
    "import nltk\n",
    "import string\n",
    "import zipfile\n",
    "import warnings\n",
    "import numpy as np\n",
    "import pandas as pd\n",
    "import seaborn as sns\n",
    "import matplotlib.pyplot as plt\n",
    "warnings.filterwarnings('ignore')\n",
    "from nltk.corpus import stopwords\n",
    "from nltk.stem import WordNetLemmatizer\n",
    "from nltk.tokenize import word_tokenize\n",
    "from sklearn.metrics import confusion_matrix\n",
    "from sklearn.naive_bayes import MultinomialNB\n",
    "from sklearn.preprocessing import LabelEncoder\n",
    "from sklearn.tree import DecisionTreeClassifier\n",
    "from sklearn.model_selection import GridSearchCV\n",
    "from sklearn.linear_model import LogisticRegression\n",
    "from sklearn.model_selection import train_test_split\n",
    "from sklearn.feature_extraction.text import CountVectorizer\n",
    "from sklearn.feature_extraction.text import TfidfVectorizer\n",
    "from sklearn.metrics import accuracy_score, precision_score, recall_score, f1_score"
   ]
  },
  {
   "cell_type": "markdown",
   "metadata": {},
   "source": [
    "### Extracting the dataset from zip file"
   ]
  },
  {
   "cell_type": "code",
   "execution_count": 2,
   "metadata": {},
   "outputs": [
    {
     "name": "stdout",
     "output_type": "stream",
     "text": [
      "Contents of C:\\Users\\harma\\Downloads\\archive.zip extracted to C:\\Users\\harma\\Desktop\\Fellowship\n"
     ]
    }
   ],
   "source": [
    "zip_file_path = r'C:\\Users\\harma\\Downloads\\archive.zip'\n",
    "\n",
    "output_directory = r'C:\\Users\\harma\\Desktop\\Fellowship'\n",
    "\n",
    "# Create the output directory if it doesn't exist\n",
    "if not os.path.exists(output_directory):\n",
    "    os.makedirs(output_directory)\n",
    "\n",
    "# Open the .zip file\n",
    "with zipfile.ZipFile(zip_file_path, 'r') as zip_ref:\n",
    "    # Extract all contents to the output directory\n",
    "    zip_ref.extractall(output_directory)\n",
    "\n",
    "print(f\"Contents of {zip_file_path} extracted to {output_directory}\")"
   ]
  },
  {
   "cell_type": "markdown",
   "metadata": {},
   "source": [
    "### Reading the data"
   ]
  },
  {
   "cell_type": "code",
   "execution_count": 3,
   "metadata": {},
   "outputs": [
    {
     "data": {
      "text/html": [
       "<div>\n",
       "<style scoped>\n",
       "    .dataframe tbody tr th:only-of-type {\n",
       "        vertical-align: middle;\n",
       "    }\n",
       "\n",
       "    .dataframe tbody tr th {\n",
       "        vertical-align: top;\n",
       "    }\n",
       "\n",
       "    .dataframe thead th {\n",
       "        text-align: right;\n",
       "    }\n",
       "</style>\n",
       "<table border=\"1\" class=\"dataframe\">\n",
       "  <thead>\n",
       "    <tr style=\"text-align: right;\">\n",
       "      <th></th>\n",
       "      <th>review</th>\n",
       "      <th>sentiment</th>\n",
       "    </tr>\n",
       "  </thead>\n",
       "  <tbody>\n",
       "    <tr>\n",
       "      <th>0</th>\n",
       "      <td>One of the other reviewers has mentioned that ...</td>\n",
       "      <td>positive</td>\n",
       "    </tr>\n",
       "    <tr>\n",
       "      <th>1</th>\n",
       "      <td>A wonderful little production. &lt;br /&gt;&lt;br /&gt;The...</td>\n",
       "      <td>positive</td>\n",
       "    </tr>\n",
       "    <tr>\n",
       "      <th>2</th>\n",
       "      <td>I thought this was a wonderful way to spend ti...</td>\n",
       "      <td>positive</td>\n",
       "    </tr>\n",
       "    <tr>\n",
       "      <th>3</th>\n",
       "      <td>Basically there's a family where a little boy ...</td>\n",
       "      <td>negative</td>\n",
       "    </tr>\n",
       "    <tr>\n",
       "      <th>4</th>\n",
       "      <td>Petter Mattei's \"Love in the Time of Money\" is...</td>\n",
       "      <td>positive</td>\n",
       "    </tr>\n",
       "  </tbody>\n",
       "</table>\n",
       "</div>"
      ],
      "text/plain": [
       "                                              review sentiment\n",
       "0  One of the other reviewers has mentioned that ...  positive\n",
       "1  A wonderful little production. <br /><br />The...  positive\n",
       "2  I thought this was a wonderful way to spend ti...  positive\n",
       "3  Basically there's a family where a little boy ...  negative\n",
       "4  Petter Mattei's \"Love in the Time of Money\" is...  positive"
      ]
     },
     "execution_count": 3,
     "metadata": {},
     "output_type": "execute_result"
    }
   ],
   "source": [
    "df = pd.read_csv(\"IMDB Dataset.csv\")\n",
    "df.head()"
   ]
  },
  {
   "cell_type": "markdown",
   "metadata": {},
   "source": [
    "### Analysis on the imdb dataset"
   ]
  },
  {
   "cell_type": "code",
   "execution_count": 4,
   "metadata": {},
   "outputs": [
    {
     "data": {
      "text/plain": [
       "(50000, 2)"
      ]
     },
     "execution_count": 4,
     "metadata": {},
     "output_type": "execute_result"
    }
   ],
   "source": [
    "# checking the number of rows and columns in the dataset\n",
    "df.shape"
   ]
  },
  {
   "cell_type": "code",
   "execution_count": 5,
   "metadata": {},
   "outputs": [
    {
     "name": "stdout",
     "output_type": "stream",
     "text": [
      "<class 'pandas.core.frame.DataFrame'>\n",
      "RangeIndex: 50000 entries, 0 to 49999\n",
      "Data columns (total 2 columns):\n",
      " #   Column     Non-Null Count  Dtype \n",
      "---  ------     --------------  ----- \n",
      " 0   review     50000 non-null  object\n",
      " 1   sentiment  50000 non-null  object\n",
      "dtypes: object(2)\n",
      "memory usage: 781.4+ KB\n"
     ]
    }
   ],
   "source": [
    "# checking the info regarding the dataset\n",
    "df.info()"
   ]
  },
  {
   "cell_type": "code",
   "execution_count": 6,
   "metadata": {},
   "outputs": [
    {
     "data": {
      "text/html": [
       "<div>\n",
       "<style scoped>\n",
       "    .dataframe tbody tr th:only-of-type {\n",
       "        vertical-align: middle;\n",
       "    }\n",
       "\n",
       "    .dataframe tbody tr th {\n",
       "        vertical-align: top;\n",
       "    }\n",
       "\n",
       "    .dataframe thead th {\n",
       "        text-align: right;\n",
       "    }\n",
       "</style>\n",
       "<table border=\"1\" class=\"dataframe\">\n",
       "  <thead>\n",
       "    <tr style=\"text-align: right;\">\n",
       "      <th></th>\n",
       "      <th>review</th>\n",
       "      <th>sentiment</th>\n",
       "    </tr>\n",
       "  </thead>\n",
       "  <tbody>\n",
       "    <tr>\n",
       "      <th>count</th>\n",
       "      <td>50000</td>\n",
       "      <td>50000</td>\n",
       "    </tr>\n",
       "    <tr>\n",
       "      <th>unique</th>\n",
       "      <td>49582</td>\n",
       "      <td>2</td>\n",
       "    </tr>\n",
       "    <tr>\n",
       "      <th>top</th>\n",
       "      <td>Loved today's show!!! It was a variety and not...</td>\n",
       "      <td>positive</td>\n",
       "    </tr>\n",
       "    <tr>\n",
       "      <th>freq</th>\n",
       "      <td>5</td>\n",
       "      <td>25000</td>\n",
       "    </tr>\n",
       "  </tbody>\n",
       "</table>\n",
       "</div>"
      ],
      "text/plain": [
       "                                                   review sentiment\n",
       "count                                               50000     50000\n",
       "unique                                              49582         2\n",
       "top     Loved today's show!!! It was a variety and not...  positive\n",
       "freq                                                    5     25000"
      ]
     },
     "execution_count": 6,
     "metadata": {},
     "output_type": "execute_result"
    }
   ],
   "source": [
    "df.describe()"
   ]
  },
  {
   "cell_type": "markdown",
   "metadata": {},
   "source": [
    "#### Conclusion from the data analysis phase\n",
    "From the above we can see that we have total 50000 rows and 2 columns (review,sentiment) <br />\n",
    "There are duplicates present in the dataset"
   ]
  },
  {
   "cell_type": "markdown",
   "metadata": {},
   "source": [
    "### Text Preprocessing"
   ]
  },
  {
   "cell_type": "code",
   "execution_count": 7,
   "metadata": {},
   "outputs": [
    {
     "data": {
      "text/plain": [
       "\"One of the other reviewers has mentioned that after watching just 1 Oz episode you'll be hooked. They are right, as this is exactly what happened with me.<br /><br />The first thing that struck me about Oz was its brutality and unflinching scenes of violence, which set in right from the word GO. Trust me, this is not a show for the faint hearted or timid. This show pulls no punches with regards to drugs, sex or violence. Its is hardcore, in the classic use of the word.<br /><br />It is called OZ as that is the nickname given to the Oswald Maximum Security State Penitentary. It focuses mainly on Emerald City, an experimental section of the prison where all the cells have glass fronts and face inwards, so privacy is not high on the agenda. Em City is home to many..Aryans, Muslims, gangstas, Latinos, Christians, Italians, Irish and more....so scuffles, death stares, dodgy dealings and shady agreements are never far away.<br /><br />I would say the main appeal of the show is due to the fact that it goes where other shows wouldn't dare. Forget pretty pictures painted for mainstream audiences, forget charm, forget romance...OZ doesn't mess around. The first episode I ever saw struck me as so nasty it was surreal, I couldn't say I was ready for it, but as I watched more, I developed a taste for Oz, and got accustomed to the high levels of graphic violence. Not just violence, but injustice (crooked guards who'll be sold out for a nickel, inmates who'll kill on order and get away with it, well mannered, middle class inmates being turned into prison bitches due to their lack of street skills or prison experience) Watching Oz, you may become comfortable with what is uncomfortable viewing....thats if you can get in touch with your darker side.\""
      ]
     },
     "execution_count": 7,
     "metadata": {},
     "output_type": "execute_result"
    }
   ],
   "source": [
    "df.review[0]"
   ]
  },
  {
   "cell_type": "code",
   "execution_count": 8,
   "metadata": {},
   "outputs": [
    {
     "data": {
      "text/plain": [
       "'I thought this was a wonderful way to spend time on a too hot summer weekend, sitting in the air conditioned theater and watching a light-hearted comedy. The plot is simplistic, but the dialogue is witty and the characters are likable (even the well bread suspected serial killer). While some may be disappointed when they realize this is not Match Point 2: Risk Addiction, I thought it was proof that Woody Allen is still fully in control of the style many of us have grown to love.<br /><br />This was the most I\\'d laughed at one of Woody\\'s comedies in years (dare I say a decade?). While I\\'ve never been impressed with Scarlet Johanson, in this she managed to tone down her \"sexy\" image and jumped right into a average, but spirited young woman.<br /><br />This may not be the crown jewel of his career, but it was wittier than \"Devil Wears Prada\" and more interesting than \"Superman\" a great comedy to go see with friends.'"
      ]
     },
     "execution_count": 8,
     "metadata": {},
     "output_type": "execute_result"
    }
   ],
   "source": [
    "df.review[2]"
   ]
  },
  {
   "cell_type": "markdown",
   "metadata": {},
   "source": [
    "<b> From the above we can see that we have some html tags, numbers and punctuation marks.</b>"
   ]
  },
  {
   "cell_type": "code",
   "execution_count": 9,
   "metadata": {},
   "outputs": [],
   "source": [
    "# creating the set for stopwords that needs to be removed\n",
    "stop_words = set(stopwords.words('english'))\n",
    "# creating the object for performing lemmatization\n",
    "lemmatizer = WordNetLemmatizer()"
   ]
  },
  {
   "cell_type": "code",
   "execution_count": 10,
   "metadata": {},
   "outputs": [],
   "source": [
    "def clean_text(text):\n",
    "    '''Function to clean the text'''\n",
    "    # removing the html tags\n",
    "    result = re.sub(r'<.*?>', ' ', text)\n",
    "    # removing numbers from the text\n",
    "    result = re.sub(\"^\\d+\\s|\\s\\d+\\s|\\s\\d+$\", \" \", result)\n",
    "    # removing the punctuation from the text\n",
    "    result = result.translate(str.maketrans('','',string.punctuation))\n",
    "    # making all the words in lower case\n",
    "    result = result.lower()\n",
    "    # performing tokenization\n",
    "    text_tokens = word_tokenize(result)\n",
    "    # removing the stopwords\n",
    "    filtered_words = [w for w in text_tokens if not w in stop_words]\n",
    "    # joining the words after removing stop words\n",
    "    result = \" \".join(filtered_words)\n",
    "    # returning the result\n",
    "    return result\n",
    "\n",
    "df['cleaned_text'] = df['review'].apply(lambda text: clean_text(text))"
   ]
  },
  {
   "cell_type": "code",
   "execution_count": 11,
   "metadata": {},
   "outputs": [
    {
     "data": {
      "text/html": [
       "<div>\n",
       "<style scoped>\n",
       "    .dataframe tbody tr th:only-of-type {\n",
       "        vertical-align: middle;\n",
       "    }\n",
       "\n",
       "    .dataframe tbody tr th {\n",
       "        vertical-align: top;\n",
       "    }\n",
       "\n",
       "    .dataframe thead th {\n",
       "        text-align: right;\n",
       "    }\n",
       "</style>\n",
       "<table border=\"1\" class=\"dataframe\">\n",
       "  <thead>\n",
       "    <tr style=\"text-align: right;\">\n",
       "      <th></th>\n",
       "      <th>review</th>\n",
       "      <th>sentiment</th>\n",
       "      <th>cleaned_text</th>\n",
       "    </tr>\n",
       "  </thead>\n",
       "  <tbody>\n",
       "    <tr>\n",
       "      <th>0</th>\n",
       "      <td>One of the other reviewers has mentioned that ...</td>\n",
       "      <td>positive</td>\n",
       "      <td>one reviewers mentioned watching oz episode yo...</td>\n",
       "    </tr>\n",
       "    <tr>\n",
       "      <th>1</th>\n",
       "      <td>A wonderful little production. &lt;br /&gt;&lt;br /&gt;The...</td>\n",
       "      <td>positive</td>\n",
       "      <td>wonderful little production filming technique ...</td>\n",
       "    </tr>\n",
       "    <tr>\n",
       "      <th>2</th>\n",
       "      <td>I thought this was a wonderful way to spend ti...</td>\n",
       "      <td>positive</td>\n",
       "      <td>thought wonderful way spend time hot summer we...</td>\n",
       "    </tr>\n",
       "    <tr>\n",
       "      <th>3</th>\n",
       "      <td>Basically there's a family where a little boy ...</td>\n",
       "      <td>negative</td>\n",
       "      <td>basically theres family little boy jake thinks...</td>\n",
       "    </tr>\n",
       "    <tr>\n",
       "      <th>4</th>\n",
       "      <td>Petter Mattei's \"Love in the Time of Money\" is...</td>\n",
       "      <td>positive</td>\n",
       "      <td>petter matteis love time money visually stunni...</td>\n",
       "    </tr>\n",
       "  </tbody>\n",
       "</table>\n",
       "</div>"
      ],
      "text/plain": [
       "                                              review sentiment  \\\n",
       "0  One of the other reviewers has mentioned that ...  positive   \n",
       "1  A wonderful little production. <br /><br />The...  positive   \n",
       "2  I thought this was a wonderful way to spend ti...  positive   \n",
       "3  Basically there's a family where a little boy ...  negative   \n",
       "4  Petter Mattei's \"Love in the Time of Money\" is...  positive   \n",
       "\n",
       "                                        cleaned_text  \n",
       "0  one reviewers mentioned watching oz episode yo...  \n",
       "1  wonderful little production filming technique ...  \n",
       "2  thought wonderful way spend time hot summer we...  \n",
       "3  basically theres family little boy jake thinks...  \n",
       "4  petter matteis love time money visually stunni...  "
      ]
     },
     "execution_count": 11,
     "metadata": {},
     "output_type": "execute_result"
    }
   ],
   "source": [
    "df.head()"
   ]
  },
  {
   "cell_type": "code",
   "execution_count": 12,
   "metadata": {},
   "outputs": [
    {
     "data": {
      "text/plain": [
       "'one reviewers mentioned watching oz episode youll hooked right exactly happened first thing struck oz brutality unflinching scenes violence set right word go trust show faint hearted timid show pulls punches regards drugs sex violence hardcore classic use word called oz nickname given oswald maximum security state penitentary focuses mainly emerald city experimental section prison cells glass fronts face inwards privacy high agenda em city home manyaryans muslims gangstas latinos christians italians irish moreso scuffles death stares dodgy dealings shady agreements never far away would say main appeal show due fact goes shows wouldnt dare forget pretty pictures painted mainstream audiences forget charm forget romanceoz doesnt mess around first episode ever saw struck nasty surreal couldnt say ready watched developed taste oz got accustomed high levels graphic violence violence injustice crooked guards wholl sold nickel inmates wholl kill order get away well mannered middle class inmates turned prison bitches due lack street skills prison experience watching oz may become comfortable uncomfortable viewingthats get touch darker side'"
      ]
     },
     "execution_count": 12,
     "metadata": {},
     "output_type": "execute_result"
    }
   ],
   "source": [
    "df.cleaned_text[0]"
   ]
  },
  {
   "cell_type": "markdown",
   "metadata": {},
   "source": [
    "#### Removing duplicates from the dataset"
   ]
  },
  {
   "cell_type": "code",
   "execution_count": 13,
   "metadata": {},
   "outputs": [
    {
     "data": {
      "text/plain": [
       "418"
      ]
     },
     "execution_count": 13,
     "metadata": {},
     "output_type": "execute_result"
    }
   ],
   "source": [
    "df.duplicated().sum()"
   ]
  },
  {
   "cell_type": "code",
   "execution_count": 14,
   "metadata": {},
   "outputs": [
    {
     "data": {
      "text/plain": [
       "(49582, 3)"
      ]
     },
     "execution_count": 14,
     "metadata": {},
     "output_type": "execute_result"
    }
   ],
   "source": [
    "df.drop_duplicates(inplace=True)\n",
    "df.shape"
   ]
  },
  {
   "cell_type": "markdown",
   "metadata": {},
   "source": [
    "### Performing lemmatization on the cleaned text"
   ]
  },
  {
   "cell_type": "code",
   "execution_count": 15,
   "metadata": {},
   "outputs": [],
   "source": [
    "def lemmatization(text):\n",
    "    text = text.split(\" \")\n",
    "    text = [lemmatizer.lemmatize(word) for word in text]\n",
    "    text = \" \".join(text)\n",
    "    return text\n",
    "\n",
    "df['cleaned_text'] = df['cleaned_text'].apply(lambda text: lemmatization(text))"
   ]
  },
  {
   "cell_type": "code",
   "execution_count": 16,
   "metadata": {},
   "outputs": [
    {
     "data": {
      "text/html": [
       "<div>\n",
       "<style scoped>\n",
       "    .dataframe tbody tr th:only-of-type {\n",
       "        vertical-align: middle;\n",
       "    }\n",
       "\n",
       "    .dataframe tbody tr th {\n",
       "        vertical-align: top;\n",
       "    }\n",
       "\n",
       "    .dataframe thead th {\n",
       "        text-align: right;\n",
       "    }\n",
       "</style>\n",
       "<table border=\"1\" class=\"dataframe\">\n",
       "  <thead>\n",
       "    <tr style=\"text-align: right;\">\n",
       "      <th></th>\n",
       "      <th>review</th>\n",
       "      <th>sentiment</th>\n",
       "      <th>cleaned_text</th>\n",
       "    </tr>\n",
       "  </thead>\n",
       "  <tbody>\n",
       "    <tr>\n",
       "      <th>0</th>\n",
       "      <td>One of the other reviewers has mentioned that ...</td>\n",
       "      <td>positive</td>\n",
       "      <td>one reviewer mentioned watching oz episode you...</td>\n",
       "    </tr>\n",
       "    <tr>\n",
       "      <th>1</th>\n",
       "      <td>A wonderful little production. &lt;br /&gt;&lt;br /&gt;The...</td>\n",
       "      <td>positive</td>\n",
       "      <td>wonderful little production filming technique ...</td>\n",
       "    </tr>\n",
       "    <tr>\n",
       "      <th>2</th>\n",
       "      <td>I thought this was a wonderful way to spend ti...</td>\n",
       "      <td>positive</td>\n",
       "      <td>thought wonderful way spend time hot summer we...</td>\n",
       "    </tr>\n",
       "    <tr>\n",
       "      <th>3</th>\n",
       "      <td>Basically there's a family where a little boy ...</td>\n",
       "      <td>negative</td>\n",
       "      <td>basically there family little boy jake think t...</td>\n",
       "    </tr>\n",
       "    <tr>\n",
       "      <th>4</th>\n",
       "      <td>Petter Mattei's \"Love in the Time of Money\" is...</td>\n",
       "      <td>positive</td>\n",
       "      <td>petter matteis love time money visually stunni...</td>\n",
       "    </tr>\n",
       "  </tbody>\n",
       "</table>\n",
       "</div>"
      ],
      "text/plain": [
       "                                              review sentiment  \\\n",
       "0  One of the other reviewers has mentioned that ...  positive   \n",
       "1  A wonderful little production. <br /><br />The...  positive   \n",
       "2  I thought this was a wonderful way to spend ti...  positive   \n",
       "3  Basically there's a family where a little boy ...  negative   \n",
       "4  Petter Mattei's \"Love in the Time of Money\" is...  positive   \n",
       "\n",
       "                                        cleaned_text  \n",
       "0  one reviewer mentioned watching oz episode you...  \n",
       "1  wonderful little production filming technique ...  \n",
       "2  thought wonderful way spend time hot summer we...  \n",
       "3  basically there family little boy jake think t...  \n",
       "4  petter matteis love time money visually stunni...  "
      ]
     },
     "execution_count": 16,
     "metadata": {},
     "output_type": "execute_result"
    }
   ],
   "source": [
    "df.head()"
   ]
  },
  {
   "cell_type": "code",
   "execution_count": 17,
   "metadata": {},
   "outputs": [
    {
     "data": {
      "text/plain": [
       "'one reviewer mentioned watching oz episode youll hooked right exactly happened first thing struck oz brutality unflinching scene violence set right word go trust show faint hearted timid show pull punch regard drug sex violence hardcore classic use word called oz nickname given oswald maximum security state penitentary focus mainly emerald city experimental section prison cell glass front face inwards privacy high agenda em city home manyaryans muslim gangsta latino christian italian irish moreso scuffle death stare dodgy dealing shady agreement never far away would say main appeal show due fact go show wouldnt dare forget pretty picture painted mainstream audience forget charm forget romanceoz doesnt mess around first episode ever saw struck nasty surreal couldnt say ready watched developed taste oz got accustomed high level graphic violence violence injustice crooked guard wholl sold nickel inmate wholl kill order get away well mannered middle class inmate turned prison bitch due lack street skill prison experience watching oz may become comfortable uncomfortable viewingthats get touch darker side'"
      ]
     },
     "execution_count": 17,
     "metadata": {},
     "output_type": "execute_result"
    }
   ],
   "source": [
    "df.cleaned_text[0]"
   ]
  },
  {
   "cell_type": "markdown",
   "metadata": {},
   "source": [
    "### Distribution of the targert variable"
   ]
  },
  {
   "cell_type": "code",
   "execution_count": 18,
   "metadata": {},
   "outputs": [
    {
     "data": {
      "text/plain": [
       "Text(0.5, 1.0, 'Distribution')"
      ]
     },
     "execution_count": 18,
     "metadata": {},
     "output_type": "execute_result"
    },
    {
     "data": {
      "image/png": "[encoded data removed]",
      "text/plain": [
       "<Figure size 640x480 with 1 Axes>"
      ]
     },
     "metadata": {},
     "output_type": "display_data"
    }
   ],
   "source": [
    "sns.countplot(x='sentiment', data = df)\n",
    "plt.title(\"Distribution\")"
   ]
  },
  {
   "cell_type": "markdown",
   "metadata": {},
   "source": [
    "<b> From the above we can see that the positive and negative categories are nearly balanced"
   ]
  },
  {
   "cell_type": "markdown",
   "metadata": {},
   "source": [
    "### Converting the categorical variable to numeric"
   ]
  },
  {
   "cell_type": "code",
   "execution_count": 19,
   "metadata": {},
   "outputs": [
    {
     "data": {
      "text/html": [
       "<div>\n",
       "<style scoped>\n",
       "    .dataframe tbody tr th:only-of-type {\n",
       "        vertical-align: middle;\n",
       "    }\n",
       "\n",
       "    .dataframe tbody tr th {\n",
       "        vertical-align: top;\n",
       "    }\n",
       "\n",
       "    .dataframe thead th {\n",
       "        text-align: right;\n",
       "    }\n",
       "</style>\n",
       "<table border=\"1\" class=\"dataframe\">\n",
       "  <thead>\n",
       "    <tr style=\"text-align: right;\">\n",
       "      <th></th>\n",
       "      <th>review</th>\n",
       "      <th>sentiment</th>\n",
       "      <th>cleaned_text</th>\n",
       "      <th>sentiment_class</th>\n",
       "    </tr>\n",
       "  </thead>\n",
       "  <tbody>\n",
       "    <tr>\n",
       "      <th>0</th>\n",
       "      <td>One of the other reviewers has mentioned that ...</td>\n",
       "      <td>positive</td>\n",
       "      <td>one reviewer mentioned watching oz episode you...</td>\n",
       "      <td>1</td>\n",
       "    </tr>\n",
       "    <tr>\n",
       "      <th>1</th>\n",
       "      <td>A wonderful little production. &lt;br /&gt;&lt;br /&gt;The...</td>\n",
       "      <td>positive</td>\n",
       "      <td>wonderful little production filming technique ...</td>\n",
       "      <td>1</td>\n",
       "    </tr>\n",
       "    <tr>\n",
       "      <th>2</th>\n",
       "      <td>I thought this was a wonderful way to spend ti...</td>\n",
       "      <td>positive</td>\n",
       "      <td>thought wonderful way spend time hot summer we...</td>\n",
       "      <td>1</td>\n",
       "    </tr>\n",
       "    <tr>\n",
       "      <th>3</th>\n",
       "      <td>Basically there's a family where a little boy ...</td>\n",
       "      <td>negative</td>\n",
       "      <td>basically there family little boy jake think t...</td>\n",
       "      <td>0</td>\n",
       "    </tr>\n",
       "    <tr>\n",
       "      <th>4</th>\n",
       "      <td>Petter Mattei's \"Love in the Time of Money\" is...</td>\n",
       "      <td>positive</td>\n",
       "      <td>petter matteis love time money visually stunni...</td>\n",
       "      <td>1</td>\n",
       "    </tr>\n",
       "  </tbody>\n",
       "</table>\n",
       "</div>"
      ],
      "text/plain": [
       "                                              review sentiment  \\\n",
       "0  One of the other reviewers has mentioned that ...  positive   \n",
       "1  A wonderful little production. <br /><br />The...  positive   \n",
       "2  I thought this was a wonderful way to spend ti...  positive   \n",
       "3  Basically there's a family where a little boy ...  negative   \n",
       "4  Petter Mattei's \"Love in the Time of Money\" is...  positive   \n",
       "\n",
       "                                        cleaned_text  sentiment_class  \n",
       "0  one reviewer mentioned watching oz episode you...                1  \n",
       "1  wonderful little production filming technique ...                1  \n",
       "2  thought wonderful way spend time hot summer we...                1  \n",
       "3  basically there family little boy jake think t...                0  \n",
       "4  petter matteis love time money visually stunni...                1  "
      ]
     },
     "execution_count": 19,
     "metadata": {},
     "output_type": "execute_result"
    }
   ],
   "source": [
    "le = LabelEncoder()\n",
    "df['sentiment_class'] = le.fit_transform(df['sentiment'])\n",
    "df.head()"
   ]
  },
  {
   "cell_type": "markdown",
   "metadata": {},
   "source": [
    "### Splitting the data into train, validation and test set"
   ]
  },
  {
   "cell_type": "code",
   "execution_count": 20,
   "metadata": {},
   "outputs": [],
   "source": [
    "X = df['cleaned_text']\n",
    "y = df['sentiment_class']"
   ]
  },
  {
   "cell_type": "code",
   "execution_count": 21,
   "metadata": {},
   "outputs": [],
   "source": [
    "X_train, X_temp, y_train, y_temp = train_test_split(X, y, test_size=0.2, stratify=y, random_state=1)\n",
    "X_val, X_test, y_val, y_test = train_test_split(X_temp, y_temp, test_size=0.5, stratify=y_temp, random_state=1)"
   ]
  },
  {
   "cell_type": "code",
   "execution_count": 22,
   "metadata": {},
   "outputs": [
    {
     "name": "stdout",
     "output_type": "stream",
     "text": [
      "The size of the training set is:  (39665,)\n",
      "The size of the validation set is:  (4958,)\n",
      "The size of the test set is:  (4959,)\n"
     ]
    }
   ],
   "source": [
    "# Printing the data rows in train, validation and test set\n",
    "print(\"The size of the training set is: \", X_train.shape)\n",
    "print(\"The size of the validation set is: \", X_val.shape)\n",
    "print(\"The size of the test set is: \", X_test.shape)"
   ]
  },
  {
   "cell_type": "markdown",
   "metadata": {},
   "source": [
    "### Converting the text to Vectors"
   ]
  },
  {
   "cell_type": "markdown",
   "metadata": {},
   "source": [
    "#### Converting the cleaned text into bag of words vector"
   ]
  },
  {
   "cell_type": "code",
   "execution_count": 23,
   "metadata": {},
   "outputs": [
    {
     "name": "stdout",
     "output_type": "stream",
     "text": [
      "The size of the training set is:  (39665, 136450)\n",
      "The size of the validation set is:  (4958, 136450)\n",
      "The size of the test set is:  (4959, 136450)\n"
     ]
    }
   ],
   "source": [
    "vectorizer = CountVectorizer()\n",
    "x_train_cv = vectorizer.fit_transform(X_train)\n",
    "x_val_cv = vectorizer.transform(X_val)\n",
    "x_test_cv = vectorizer.transform(X_test)\n",
    "print(\"The size of the training set is: \", x_train_cv.shape)\n",
    "print(\"The size of the validation set is: \", x_val_cv.shape)\n",
    "print(\"The size of the test set is: \", x_test_cv.shape)"
   ]
  },
  {
   "cell_type": "markdown",
   "metadata": {},
   "source": [
    "#### Converting the cleaned text into TF-IDF vector"
   ]
  },
  {
   "cell_type": "code",
   "execution_count": 24,
   "metadata": {},
   "outputs": [
    {
     "name": "stdout",
     "output_type": "stream",
     "text": [
      "The size of the training set is:  (39665, 136450)\n",
      "The size of the validation set is:  (4958, 136450)\n",
      "The size of the test set is:  (4959, 136450)\n"
     ]
    }
   ],
   "source": [
    "vectorizer_tf = TfidfVectorizer()\n",
    "x_train_tf = vectorizer.fit_transform(X_train)\n",
    "x_val_tf = vectorizer.transform(X_val)\n",
    "x_test_tf = vectorizer.transform(X_test)\n",
    "print(\"The size of the training set is: \", x_train_tf.shape)\n",
    "print(\"The size of the validation set is: \", x_val_tf.shape)\n",
    "print(\"The size of the test set is: \", x_test_tf.shape)"
   ]
  },
  {
   "cell_type": "markdown",
   "metadata": {},
   "source": [
    "## Hyperparameter Tuning"
   ]
  },
  {
   "cell_type": "markdown",
   "metadata": {},
   "source": [
    "<b> As we have seen that the categories are balanced, hence we are using accuracy as the metric criteria for hyperparameter tuning</b>"
   ]
  },
  {
   "cell_type": "markdown",
   "metadata": {},
   "source": [
    "### Hyperparameter tuning on Logistic regression model"
   ]
  },
  {
   "cell_type": "code",
   "execution_count": 25,
   "metadata": {},
   "outputs": [],
   "source": [
    "# defining the parameters\n",
    "parameters = {\n",
    "    'penalty' : ['l1','l2'], \n",
    "    'C'       : np.logspace(-3,3,7)\n",
    "}\n",
    "# creating the logistic regression model object\n",
    "logreg = LogisticRegression()\n",
    "# creating the gridsearch object for finding the best parameters\n",
    "clf = GridSearchCV(logreg,                    \n",
    "                   param_grid = parameters,   \n",
    "                   scoring='accuracy', verbose = 1,       \n",
    "                   cv=10)                     "
   ]
  },
  {
   "cell_type": "markdown",
   "metadata": {},
   "source": [
    "#### Hyperparameter tuning on bag of words training set"
   ]
  },
  {
   "cell_type": "code",
   "execution_count": 26,
   "metadata": {},
   "outputs": [
    {
     "name": "stdout",
     "output_type": "stream",
     "text": [
      "Fitting 10 folds for each of 14 candidates, totalling 140 fits\n",
      "Tuned Hyperparameters : {'C': 0.1, 'penalty': 'l2'}\n",
      "Accuracy : 0.8913652547790578\n"
     ]
    }
   ],
   "source": [
    "clf.fit(x_train_cv,y_train)\n",
    "print(\"Tuned Hyperparameters :\", clf.best_params_)\n",
    "print(\"Accuracy :\",clf.best_score_)"
   ]
  },
  {
   "cell_type": "markdown",
   "metadata": {},
   "source": [
    "#### Checking the performance on bag of words validation set"
   ]
  },
  {
   "cell_type": "code",
   "execution_count": 27,
   "metadata": {},
   "outputs": [
    {
     "name": "stdout",
     "output_type": "stream",
     "text": [
      "Validation Accuracy: 88.95%\n"
     ]
    }
   ],
   "source": [
    "# getting the best parameters\n",
    "best_params = clf.best_params_\n",
    "# creating the model with best parameters\n",
    "logreg_cv = LogisticRegression(**best_params)\n",
    "# training on the training set\n",
    "logreg_cv.fit(x_train_cv,y_train)\n",
    "# getting the prediction on validation set\n",
    "log_cv_pred = logreg_cv.predict(x_val_cv)\n",
    "# getting the accuracy on validation set\n",
    "val_acc_cv = accuracy_score(y_val, log_cv_pred)\n",
    "# printing the validation accuracy\n",
    "print(f\"Validation Accuracy: {val_acc_cv * 100:.2f}%\")"
   ]
  },
  {
   "cell_type": "code",
   "execution_count": 28,
   "metadata": {},
   "outputs": [
    {
     "data": {
      "image/png": "[encoded data removed]",
      "text/plain": [
       "<Figure size 640x480 with 2 Axes>"
      ]
     },
     "metadata": {},
     "output_type": "display_data"
    }
   ],
   "source": [
    "# Plotting a Confusion Matrix in Seaborn\n",
    "conf_matrix = confusion_matrix(y_val, log_cv_pred, labels=logreg_cv.classes_)\n",
    "sns.heatmap(conf_matrix,\n",
    "            annot=True,\n",
    "            fmt='g',\n",
    "            xticklabels=logreg_cv.classes_,\n",
    "            yticklabels=logreg_cv.classes_,\n",
    "    )\n",
    "plt.ylabel('Prediction',fontsize=13)\n",
    "plt.xlabel('Actual',fontsize=13)\n",
    "plt.title('Confusion Matrix',fontsize=17)\n",
    "plt.show()"
   ]
  },
  {
   "cell_type": "code",
   "execution_count": 29,
   "metadata": {},
   "outputs": [
    {
     "name": "stdout",
     "output_type": "stream",
     "text": [
      "Precision: 0.886\n",
      "Recall: 0.894\n",
      "F1-Score: 0.890\n"
     ]
    }
   ],
   "source": [
    "print('Precision: %.3f' % precision_score(y_val, log_cv_pred))\n",
    "print('Recall: %.3f' % recall_score(y_val, log_cv_pred))\n",
    "print('F1-Score: %.3f' % f1_score(y_val, log_cv_pred))"
   ]
  },
  {
   "cell_type": "markdown",
   "metadata": {},
   "source": [
    "#### Hyperparameter Tuning on TF-IDF training set"
   ]
  },
  {
   "cell_type": "code",
   "execution_count": 30,
   "metadata": {},
   "outputs": [
    {
     "name": "stdout",
     "output_type": "stream",
     "text": [
      "Fitting 10 folds for each of 14 candidates, totalling 140 fits\n",
      "Tuned Hyperparameters : {'C': 0.1, 'penalty': 'l2'}\n",
      "Accuracy : 0.8913652547790578\n"
     ]
    }
   ],
   "source": [
    "clf.fit(x_train_tf,y_train)\n",
    "print(\"Tuned Hyperparameters :\", clf.best_params_)\n",
    "print(\"Accuracy :\",clf.best_score_)"
   ]
  },
  {
   "cell_type": "markdown",
   "metadata": {},
   "source": [
    "#### Checking the perfomance on TF-IDF validation set"
   ]
  },
  {
   "cell_type": "code",
   "execution_count": 31,
   "metadata": {},
   "outputs": [
    {
     "name": "stdout",
     "output_type": "stream",
     "text": [
      "Validation Accuracy: 88.95%\n"
     ]
    }
   ],
   "source": [
    "# getting the best parameters\n",
    "best_params = clf.best_params_\n",
    "# creating the model with best parameters\n",
    "logreg_tf = LogisticRegression(**best_params)\n",
    "# training on the training set\n",
    "logreg_tf.fit(x_train_tf,y_train)\n",
    "# getting the prediction on validation set\n",
    "log_tf_pred = logreg_tf.predict(x_val_tf)\n",
    "# getting the accuracy on validation set\n",
    "val_acc_tf = accuracy_score(y_val, log_tf_pred)\n",
    "# printing the validation accuracy\n",
    "print(f\"Validation Accuracy: {val_acc_tf * 100:.2f}%\")"
   ]
  },
  {
   "cell_type": "code",
   "execution_count": 32,
   "metadata": {},
   "outputs": [
    {
     "data": {
      "image/png": "[encoded data removed]",
      "text/plain": [
       "<Figure size 640x480 with 2 Axes>"
      ]
     },
     "metadata": {},
     "output_type": "display_data"
    }
   ],
   "source": [
    "# Plotting a Confusion Matrix in Seaborn\n",
    "conf_matrix = confusion_matrix(y_val, log_tf_pred, labels=logreg_tf.classes_)\n",
    "sns.heatmap(conf_matrix,\n",
    "            annot=True,\n",
    "            fmt='g',\n",
    "            xticklabels=logreg_tf.classes_,\n",
    "            yticklabels=logreg_tf.classes_,\n",
    "    )\n",
    "plt.ylabel('Prediction',fontsize=13)\n",
    "plt.xlabel('Actual',fontsize=13)\n",
    "plt.title('Confusion Matrix',fontsize=17)\n",
    "plt.show()"
   ]
  },
  {
   "cell_type": "code",
   "execution_count": 33,
   "metadata": {},
   "outputs": [
    {
     "name": "stdout",
     "output_type": "stream",
     "text": [
      "Precision: 0.886\n",
      "Recall: 0.894\n",
      "F1-Score: 0.890\n"
     ]
    }
   ],
   "source": [
    "print('Precision: %.3f' % precision_score(y_val, log_tf_pred))\n",
    "print('Recall: %.3f' % recall_score(y_val, log_tf_pred))\n",
    "print('F1-Score: %.3f' % f1_score(y_val, log_tf_pred))"
   ]
  },
  {
   "cell_type": "markdown",
   "metadata": {},
   "source": [
    "### Hyperparameter tuning on Naive bayes model"
   ]
  },
  {
   "cell_type": "code",
   "execution_count": 34,
   "metadata": {},
   "outputs": [],
   "source": [
    "# creating the Multinomial Naive Bayes model object\n",
    "NB = MultinomialNB()\n",
    "# defining the parameters\n",
    "params_NB = {'alpha': [0.1, 0.5, 1.0, 2.0],\n",
    "            'fit_prior': [True, False]}\n",
    "# creating the gridsearch object for finding the best parameters\n",
    "clf_NB = GridSearchCV(NB, \n",
    "                 param_grid=params_NB,\n",
    "                 cv = 10,\n",
    "                 verbose=1, \n",
    "                 scoring='accuracy')"
   ]
  },
  {
   "cell_type": "markdown",
   "metadata": {},
   "source": [
    "#### Hyperparameter tuning on bag of words training set"
   ]
  },
  {
   "cell_type": "code",
   "execution_count": 35,
   "metadata": {},
   "outputs": [
    {
     "name": "stdout",
     "output_type": "stream",
     "text": [
      "Fitting 10 folds for each of 8 candidates, totalling 80 fits\n",
      "Tuned Hyperparameters : {'alpha': 1.0, 'fit_prior': False}\n",
      "Accuracy : 0.8573302552411404\n"
     ]
    }
   ],
   "source": [
    "clf_NB.fit(x_train_cv,y_train)\n",
    "print(\"Tuned Hyperparameters :\", clf_NB.best_params_)\n",
    "print(\"Accuracy :\",clf_NB.best_score_)"
   ]
  },
  {
   "cell_type": "markdown",
   "metadata": {},
   "source": [
    "#### Checking the performance on bag of words validation set"
   ]
  },
  {
   "cell_type": "code",
   "execution_count": 36,
   "metadata": {},
   "outputs": [
    {
     "name": "stdout",
     "output_type": "stream",
     "text": [
      "Validation Accuracy: 85.11%\n"
     ]
    }
   ],
   "source": [
    "# getting the best parameters\n",
    "best_params = clf_NB.best_params_\n",
    "# creating the model with best parameters\n",
    "NB_cv = MultinomialNB(**best_params)\n",
    "# training on the training set\n",
    "NB_cv.fit(x_train_cv,y_train)\n",
    "# getting the prediction on validation set\n",
    "NB_cv_pred = NB_cv.predict(x_val_cv)\n",
    "# getting the accuracy on validation set\n",
    "val_acc_cv = accuracy_score(y_val, NB_cv_pred)\n",
    "# printing the validation accuracy\n",
    "print(f\"Validation Accuracy: {val_acc_cv * 100:.2f}%\")"
   ]
  },
  {
   "cell_type": "code",
   "execution_count": 37,
   "metadata": {},
   "outputs": [
    {
     "data": {
      "image/png": "[encoded data removed]",
      "text/plain": [
       "<Figure size 640x480 with 2 Axes>"
      ]
     },
     "metadata": {},
     "output_type": "display_data"
    }
   ],
   "source": [
    "# Plotting a Confusion Matrix in Seaborn\n",
    "conf_matrix = confusion_matrix(y_val, NB_cv_pred, labels=NB_cv.classes_)\n",
    "sns.heatmap(conf_matrix,\n",
    "            annot=True,\n",
    "            fmt='g',\n",
    "            xticklabels=NB_cv.classes_,\n",
    "            yticklabels=NB_cv.classes_,\n",
    "    )\n",
    "plt.ylabel('Prediction',fontsize=13)\n",
    "plt.xlabel('Actual',fontsize=13)\n",
    "plt.title('Confusion Matrix',fontsize=17)\n",
    "plt.show()"
   ]
  },
  {
   "cell_type": "code",
   "execution_count": 38,
   "metadata": {},
   "outputs": [
    {
     "name": "stdout",
     "output_type": "stream",
     "text": [
      "Precision: 0.864\n",
      "Recall: 0.834\n",
      "F1-Score: 0.849\n"
     ]
    }
   ],
   "source": [
    "print('Precision: %.3f' % precision_score(y_val, NB_cv_pred))\n",
    "print('Recall: %.3f' % recall_score(y_val, NB_cv_pred))\n",
    "print('F1-Score: %.3f' % f1_score(y_val, NB_cv_pred))"
   ]
  },
  {
   "cell_type": "markdown",
   "metadata": {},
   "source": [
    "#### Hyperparameter tuning on TF-IDF training set"
   ]
  },
  {
   "cell_type": "code",
   "execution_count": 39,
   "metadata": {},
   "outputs": [
    {
     "name": "stdout",
     "output_type": "stream",
     "text": [
      "Fitting 10 folds for each of 8 candidates, totalling 80 fits\n",
      "Tuned Hyperparameters : {'alpha': 1.0, 'fit_prior': False}\n",
      "Accuracy : 0.8573302552411404\n"
     ]
    }
   ],
   "source": [
    "clf_NB.fit(x_train_tf,y_train)\n",
    "print(\"Tuned Hyperparameters :\", clf_NB.best_params_)\n",
    "print(\"Accuracy :\",clf_NB.best_score_)"
   ]
  },
  {
   "cell_type": "markdown",
   "metadata": {},
   "source": [
    "#### Checking the performance on TF-IDF validation set"
   ]
  },
  {
   "cell_type": "code",
   "execution_count": 40,
   "metadata": {},
   "outputs": [
    {
     "name": "stdout",
     "output_type": "stream",
     "text": [
      "Validation Accuracy: 85.11%\n"
     ]
    }
   ],
   "source": [
    "# getting the best parameters\n",
    "best_params = clf_NB.best_params_\n",
    "# creating the model with best parameters\n",
    "NB_tf = MultinomialNB(**best_params)\n",
    "# training on the training set\n",
    "NB_tf.fit(x_train_tf,y_train)\n",
    "# getting the prediction on validation set\n",
    "NB_tf_pred = NB_tf.predict(x_val_tf)\n",
    "# getting the accuracy on validation set\n",
    "val_acc_tf = accuracy_score(y_val,NB_tf_pred)\n",
    "# printing the validation accuracy\n",
    "print(f\"Validation Accuracy: {val_acc_tf * 100:.2f}%\")"
   ]
  },
  {
   "cell_type": "code",
   "execution_count": 41,
   "metadata": {},
   "outputs": [
    {
     "data": {
      "image/png": "[encoded data removed]",
      "text/plain": [
       "<Figure size 640x480 with 2 Axes>"
      ]
     },
     "metadata": {},
     "output_type": "display_data"
    }
   ],
   "source": [
    "# Plotting a Confusion Matrix in Seaborn\n",
    "conf_matrix = confusion_matrix(y_val, NB_tf_pred, labels=NB_tf.classes_)\n",
    "sns.heatmap(conf_matrix,\n",
    "            annot=True,\n",
    "            fmt='g',\n",
    "            xticklabels=NB_tf.classes_,\n",
    "            yticklabels=NB_tf.classes_,\n",
    "    )\n",
    "plt.ylabel('Prediction',fontsize=13)\n",
    "plt.xlabel('Actual',fontsize=13)\n",
    "plt.title('Confusion Matrix',fontsize=17)\n",
    "plt.show()"
   ]
  },
  {
   "cell_type": "code",
   "execution_count": 42,
   "metadata": {},
   "outputs": [
    {
     "name": "stdout",
     "output_type": "stream",
     "text": [
      "Precision: 0.864\n",
      "Recall: 0.834\n",
      "F1-Score: 0.849\n"
     ]
    }
   ],
   "source": [
    "print('Precision: %.3f' % precision_score(y_val, NB_tf_pred))\n",
    "print('Recall: %.3f' % recall_score(y_val, NB_tf_pred))\n",
    "print('F1-Score: %.3f' % f1_score(y_val,NB_tf_pred))"
   ]
  },
  {
   "cell_type": "markdown",
   "metadata": {},
   "source": [
    "### Hyperparameter tuning on Decision Tree model"
   ]
  },
  {
   "cell_type": "code",
   "execution_count": 43,
   "metadata": {},
   "outputs": [],
   "source": [
    "# creating the decision tree model object\n",
    "DT = DecisionTreeClassifier()\n",
    "# defining the parameters\n",
    "param_DT = {\n",
    "    'max_depth': [None, 10, 20, 30],              \n",
    "    'min_samples_split': [2, 5, 10],              \n",
    "    'min_samples_leaf': [1, 2, 4],      \n",
    "    'criterion': ['gini', 'entropy']\n",
    "    }\n",
    "# creating the gridsearch object for finding the best parameters\n",
    "clf_DT = GridSearchCV(DT, \n",
    "                 param_grid=param_DT,\n",
    "                 cv = 3,\n",
    "                 verbose=1, \n",
    "                 scoring='accuracy')"
   ]
  },
  {
   "cell_type": "markdown",
   "metadata": {},
   "source": [
    "#### Hyperparameter tuning on bag of words training set"
   ]
  },
  {
   "cell_type": "code",
   "execution_count": 44,
   "metadata": {},
   "outputs": [
    {
     "name": "stdout",
     "output_type": "stream",
     "text": [
      "Fitting 3 folds for each of 72 candidates, totalling 216 fits\n",
      "Tuned Hyperparameters : {'criterion': 'gini', 'max_depth': 30, 'min_samples_leaf': 2, 'min_samples_split': 2}\n",
      "Accuracy : 0.7405016670989313\n"
     ]
    }
   ],
   "source": [
    "clf_DT.fit(x_train_cv,y_train)\n",
    "print(\"Tuned Hyperparameters :\", clf_DT.best_params_)\n",
    "print(\"Accuracy :\",clf_DT.best_score_)"
   ]
  },
  {
   "cell_type": "markdown",
   "metadata": {},
   "source": [
    "#### Checking the performance on bag of words validation set"
   ]
  },
  {
   "cell_type": "code",
   "execution_count": 45,
   "metadata": {},
   "outputs": [
    {
     "name": "stdout",
     "output_type": "stream",
     "text": [
      "Validation Accuracy: 73.40%\n"
     ]
    }
   ],
   "source": [
    "# getting the best parameters\n",
    "best_params = clf_DT.best_params_\n",
    "# creating the model with best parameters\n",
    "DT_cv = DecisionTreeClassifier(**best_params)\n",
    "# training on the training set\n",
    "DT_cv.fit(x_train_cv,y_train)\n",
    "# getting the prediction on validation set\n",
    "DT_cv_pred = DT_cv.predict(x_val_cv)\n",
    "# getting the accuracy on validation set\n",
    "val_acc_cv = accuracy_score(y_val, DT_cv_pred)\n",
    "# printing the validation accuracy\n",
    "print(f\"Validation Accuracy: {val_acc_cv * 100:.2f}%\")"
   ]
  },
  {
   "cell_type": "code",
   "execution_count": 46,
   "metadata": {},
   "outputs": [
    {
     "data": {
      "image/png": "[encoded data removed]",
      "text/plain": [
       "<Figure size 640x480 with 2 Axes>"
      ]
     },
     "metadata": {},
     "output_type": "display_data"
    }
   ],
   "source": [
    "# Plotting a Confusion Matrix in Seaborn\n",
    "conf_matrix = confusion_matrix(y_val, DT_cv_pred, labels=DT_cv.classes_)\n",
    "sns.heatmap(conf_matrix,\n",
    "            annot=True,\n",
    "            fmt='g',\n",
    "            xticklabels=DT_cv.classes_,\n",
    "            yticklabels=DT_cv.classes_,\n",
    "    )\n",
    "plt.ylabel('Prediction',fontsize=13)\n",
    "plt.xlabel('Actual',fontsize=13)\n",
    "plt.title('Confusion Matrix',fontsize=17)\n",
    "plt.show()"
   ]
  },
  {
   "cell_type": "code",
   "execution_count": 47,
   "metadata": {},
   "outputs": [
    {
     "name": "stdout",
     "output_type": "stream",
     "text": [
      "Precision: 0.719\n",
      "Recall: 0.770\n",
      "F1-Score: 0.744\n"
     ]
    }
   ],
   "source": [
    "print('Precision: %.3f' % precision_score(y_val, DT_cv_pred))\n",
    "print('Recall: %.3f' % recall_score(y_val, DT_cv_pred))\n",
    "print('F1-Score: %.3f' % f1_score(y_val,DT_cv_pred))"
   ]
  },
  {
   "cell_type": "markdown",
   "metadata": {},
   "source": [
    "#### Hyperparameter tuning on TF-IDF training set"
   ]
  },
  {
   "cell_type": "code",
   "execution_count": 48,
   "metadata": {},
   "outputs": [
    {
     "name": "stdout",
     "output_type": "stream",
     "text": [
      "Fitting 3 folds for each of 72 candidates, totalling 216 fits\n",
      "Tuned Hyperparameters : {'criterion': 'gini', 'max_depth': 30, 'min_samples_leaf': 2, 'min_samples_split': 5}\n",
      "Accuracy : 0.7411319259787152\n"
     ]
    }
   ],
   "source": [
    "clf_DT.fit(x_train_tf,y_train)\n",
    "print(\"Tuned Hyperparameters :\", clf_DT.best_params_)\n",
    "print(\"Accuracy :\",clf_DT.best_score_)"
   ]
  },
  {
   "cell_type": "markdown",
   "metadata": {},
   "source": [
    "#### Checking the performance on TF-IDF validation set"
   ]
  },
  {
   "cell_type": "code",
   "execution_count": 49,
   "metadata": {},
   "outputs": [
    {
     "name": "stdout",
     "output_type": "stream",
     "text": [
      "Validation Accuracy: 73.40%\n"
     ]
    }
   ],
   "source": [
    "# getting the best parameters\n",
    "best_params = clf_DT.best_params_\n",
    "# creating the model with best parameters\n",
    "DT_tf = DecisionTreeClassifier(**best_params)\n",
    "# training on the training set\n",
    "DT_tf.fit(x_train_tf,y_train)\n",
    "# getting the prediction on validation set\n",
    "DT_tf_pred = DT_cv.predict(x_val_tf)\n",
    "# getting the accuracy on validation set\n",
    "val_acc_tf = accuracy_score(y_val, DT_tf_pred)\n",
    "# printing the validation accuracy\n",
    "print(f\"Validation Accuracy: {val_acc_tf * 100:.2f}%\")"
   ]
  },
  {
   "cell_type": "code",
   "execution_count": 50,
   "metadata": {},
   "outputs": [
    {
     "data": {
      "image/png": "[encoded data removed]",
      "text/plain": [
       "<Figure size 640x480 with 2 Axes>"
      ]
     },
     "metadata": {},
     "output_type": "display_data"
    }
   ],
   "source": [
    "# Plotting a Confusion Matrix in Seaborn\n",
    "conf_matrix = confusion_matrix(y_val, DT_tf_pred, labels=DT_tf.classes_)\n",
    "sns.heatmap(conf_matrix,\n",
    "            annot=True,\n",
    "            fmt='g',\n",
    "            xticklabels=DT_tf.classes_,\n",
    "            yticklabels=DT_tf.classes_,\n",
    "    )\n",
    "plt.ylabel('Prediction',fontsize=13)\n",
    "plt.xlabel('Actual',fontsize=13)\n",
    "plt.title('Confusion Matrix',fontsize=17)\n",
    "plt.show()"
   ]
  },
  {
   "cell_type": "code",
   "execution_count": 51,
   "metadata": {},
   "outputs": [
    {
     "name": "stdout",
     "output_type": "stream",
     "text": [
      "Precision: 0.719\n",
      "Recall: 0.770\n",
      "F1-Score: 0.744\n"
     ]
    }
   ],
   "source": [
    "print('Precision: %.3f' % precision_score(y_val, DT_tf_pred))\n",
    "print('Recall: %.3f' % recall_score(y_val, DT_tf_pred))\n",
    "print('F1-Score: %.3f' % f1_score(y_val,DT_tf_pred))"
   ]
  },
  {
   "cell_type": "markdown",
   "metadata": {},
   "source": [
    "### Checking the performance of all the models on the bag of words test set"
   ]
  },
  {
   "cell_type": "markdown",
   "metadata": {},
   "source": [
    "#### Logistic regression"
   ]
  },
  {
   "cell_type": "code",
   "execution_count": 52,
   "metadata": {},
   "outputs": [
    {
     "data": {
      "image/png": "[encoded data removed]",
      "text/plain": [
       "<Figure size 640x480 with 2 Axes>"
      ]
     },
     "metadata": {},
     "output_type": "display_data"
    },
    {
     "name": "stdout",
     "output_type": "stream",
     "text": [
      "Accuracy:  0.899\n",
      "Precision: 0.895\n",
      "Recall: 0.906\n",
      "F1-Score: 0.900\n"
     ]
    }
   ],
   "source": [
    "# getting the prediction on test set\n",
    "log_cv_pred = logreg_cv.predict(x_test_cv)\n",
    "\n",
    "# Plotting a Confusion Matrix in Seaborn\n",
    "conf_matrix = confusion_matrix(y_test, log_cv_pred, labels=logreg_cv.classes_)\n",
    "sns.heatmap(conf_matrix,\n",
    "            annot=True,\n",
    "            fmt='g',\n",
    "            xticklabels=logreg_cv.classes_,\n",
    "            yticklabels=logreg_cv.classes_,\n",
    "    )\n",
    "plt.ylabel('Prediction',fontsize=13)\n",
    "plt.xlabel('Actual',fontsize=13)\n",
    "plt.title('Confusion Matrix',fontsize=17)\n",
    "plt.show()\n",
    "# Printing the metrics on test set\n",
    "print(\"Accuracy:  %.3f\" % accuracy_score(y_test, log_cv_pred))\n",
    "print('Precision: %.3f' % precision_score(y_test, log_cv_pred))\n",
    "print('Recall: %.3f' % recall_score(y_test, log_cv_pred))\n",
    "print('F1-Score: %.3f' % f1_score(y_test, log_cv_pred))"
   ]
  },
  {
   "cell_type": "markdown",
   "metadata": {},
   "source": [
    "#### Naive Bayes"
   ]
  },
  {
   "cell_type": "code",
   "execution_count": 53,
   "metadata": {},
   "outputs": [
    {
     "data": {
      "image/png": "[encoded data removed]",
      "text/plain": [
       "<Figure size 640x480 with 2 Axes>"
      ]
     },
     "metadata": {},
     "output_type": "display_data"
    },
    {
     "name": "stdout",
     "output_type": "stream",
     "text": [
      "Accuracy:  0.863\n",
      "Precision: 0.885\n",
      "Recall: 0.837\n",
      "F1-Score: 0.860\n"
     ]
    }
   ],
   "source": [
    "# getting the prediction on test set\n",
    "NB_cv_pred = NB_cv.predict(x_test_cv)\n",
    "\n",
    "# Plotting a Confusion Matrix in Seaborn\n",
    "conf_matrix = confusion_matrix(y_test, NB_cv_pred, labels=NB_cv.classes_)\n",
    "sns.heatmap(conf_matrix,\n",
    "            annot=True,\n",
    "            fmt='g',\n",
    "            xticklabels=NB_cv.classes_,\n",
    "            yticklabels=NB_cv.classes_,\n",
    "    )\n",
    "plt.ylabel('Prediction',fontsize=13)\n",
    "plt.xlabel('Actual',fontsize=13)\n",
    "plt.title('Confusion Matrix',fontsize=17)\n",
    "plt.show()\n",
    "# Printing the metrics on test set\n",
    "print(\"Accuracy:  %.3f\" % accuracy_score(y_test, NB_cv_pred))\n",
    "print('Precision: %.3f' % precision_score(y_test, NB_cv_pred))\n",
    "print('Recall: %.3f' % recall_score(y_test, NB_cv_pred))\n",
    "print('F1-Score: %.3f' % f1_score(y_test, NB_cv_pred))"
   ]
  },
  {
   "cell_type": "markdown",
   "metadata": {},
   "source": [
    "#### Decision Tree"
   ]
  },
  {
   "cell_type": "code",
   "execution_count": 54,
   "metadata": {},
   "outputs": [
    {
     "data": {
      "image/png": "[encoded data removed]",
      "text/plain": [
       "<Figure size 640x480 with 2 Axes>"
      ]
     },
     "metadata": {},
     "output_type": "display_data"
    },
    {
     "name": "stdout",
     "output_type": "stream",
     "text": [
      "Accuracy:  0.742\n",
      "Precision: 0.725\n",
      "Recall: 0.783\n",
      "F1-Score: 0.753\n"
     ]
    }
   ],
   "source": [
    "# getting the prediction on test set\n",
    "DT_cv_pred = DT_cv.predict(x_test_cv)\n",
    "\n",
    "# Plotting a Confusion Matrix in Seaborn\n",
    "conf_matrix = confusion_matrix(y_test, DT_cv_pred, labels=DT_cv.classes_)\n",
    "sns.heatmap(conf_matrix,\n",
    "            annot=True,\n",
    "            fmt='g',\n",
    "            xticklabels=DT_cv.classes_,\n",
    "            yticklabels=DT_cv.classes_,\n",
    "    )\n",
    "plt.ylabel('Prediction',fontsize=13)\n",
    "plt.xlabel('Actual',fontsize=13)\n",
    "plt.title('Confusion Matrix',fontsize=17)\n",
    "plt.show()\n",
    "# Printing the metrics on test set\n",
    "print(\"Accuracy:  %.3f\" % accuracy_score(y_test, DT_cv_pred))\n",
    "print('Precision: %.3f' % precision_score(y_test, DT_cv_pred))\n",
    "print('Recall: %.3f' % recall_score(y_test, DT_cv_pred))\n",
    "print('F1-Score: %.3f' % f1_score(y_test, DT_cv_pred))"
   ]
  },
  {
   "cell_type": "markdown",
   "metadata": {},
   "source": [
    "<b> As we see above performance of the models on test data, we can see that Logistic Regression did a much better job followed by Naive bayes and then Decision Tree</b>"
   ]
  },
  {
   "cell_type": "markdown",
   "metadata": {},
   "source": [
    "### Checking the performance of all the models on the TF-IDF test set"
   ]
  },
  {
   "cell_type": "markdown",
   "metadata": {},
   "source": [
    "#### Logistic Regression"
   ]
  },
  {
   "cell_type": "code",
   "execution_count": 57,
   "metadata": {},
   "outputs": [
    {
     "data": {
      "image/png": "[encoded data removed]",
      "text/plain": [
       "<Figure size 640x480 with 2 Axes>"
      ]
     },
     "metadata": {},
     "output_type": "display_data"
    },
    {
     "name": "stdout",
     "output_type": "stream",
     "text": [
      "Accuracy:  0.899\n",
      "Precision: 0.895\n",
      "Recall: 0.906\n",
      "F1-Score: 0.900\n"
     ]
    }
   ],
   "source": [
    "# getting the prediction on test set\n",
    "log_tf_pred = logreg_tf.predict(x_test_tf)\n",
    "\n",
    "# Plotting a Confusion Matrix in Seaborn\n",
    "conf_matrix = confusion_matrix(y_test, log_tf_pred, labels=logreg_tf.classes_)\n",
    "sns.heatmap(conf_matrix,\n",
    "            annot=True,\n",
    "            fmt='g',\n",
    "            xticklabels=logreg_tf.classes_,\n",
    "            yticklabels=logreg_tf.classes_,\n",
    "    )\n",
    "plt.ylabel('Prediction',fontsize=13)\n",
    "plt.xlabel('Actual',fontsize=13)\n",
    "plt.title('Confusion Matrix',fontsize=17)\n",
    "plt.show()\n",
    "# Printing the metrics on test set\n",
    "print(\"Accuracy:  %.3f\" % accuracy_score(y_test, log_tf_pred))\n",
    "print('Precision: %.3f' % precision_score(y_test, log_tf_pred))\n",
    "print('Recall: %.3f' % recall_score(y_test, log_tf_pred))\n",
    "print('F1-Score: %.3f' % f1_score(y_test, log_tf_pred))"
   ]
  },
  {
   "cell_type": "markdown",
   "metadata": {},
   "source": [
    "#### Naive Bayes"
   ]
  },
  {
   "cell_type": "code",
   "execution_count": 58,
   "metadata": {},
   "outputs": [
    {
     "data": {
      "image/png": "[encoded data removed]",
      "text/plain": [
       "<Figure size 640x480 with 2 Axes>"
      ]
     },
     "metadata": {},
     "output_type": "display_data"
    },
    {
     "name": "stdout",
     "output_type": "stream",
     "text": [
      "Accuracy:  0.863\n",
      "Precision: 0.885\n",
      "Recall: 0.837\n",
      "F1-Score: 0.860\n"
     ]
    }
   ],
   "source": [
    "# getting the prediction on test set\n",
    "NB_tf_pred = NB_tf.predict(x_test_tf)\n",
    "\n",
    "# Plotting a Confusion Matrix in Seaborn\n",
    "conf_matrix = confusion_matrix(y_test, NB_tf_pred, labels=NB_tf.classes_)\n",
    "sns.heatmap(conf_matrix,\n",
    "            annot=True,\n",
    "            fmt='g',\n",
    "            xticklabels=NB_tf.classes_,\n",
    "            yticklabels=NB_tf.classes_,\n",
    "    )\n",
    "plt.ylabel('Prediction',fontsize=13)\n",
    "plt.xlabel('Actual',fontsize=13)\n",
    "plt.title('Confusion Matrix',fontsize=17)\n",
    "plt.show()\n",
    "# Printing the metrics on test set\n",
    "print(\"Accuracy:  %.3f\" % accuracy_score(y_test, NB_tf_pred))\n",
    "print('Precision: %.3f' % precision_score(y_test, NB_tf_pred))\n",
    "print('Recall: %.3f' % recall_score(y_test, NB_tf_pred))\n",
    "print('F1-Score: %.3f' % f1_score(y_test, NB_tf_pred))"
   ]
  },
  {
   "cell_type": "markdown",
   "metadata": {},
   "source": [
    "#### Decision Tree"
   ]
  },
  {
   "cell_type": "code",
   "execution_count": 59,
   "metadata": {},
   "outputs": [
    {
     "data": {
      "image/png": "[encoded data removed]",
      "text/plain": [
       "<Figure size 640x480 with 2 Axes>"
      ]
     },
     "metadata": {},
     "output_type": "display_data"
    },
    {
     "name": "stdout",
     "output_type": "stream",
     "text": [
      "Accuracy:  0.742\n",
      "Precision: 0.725\n",
      "Recall: 0.783\n",
      "F1-Score: 0.753\n"
     ]
    }
   ],
   "source": [
    "# getting the prediction on test set\n",
    "DT_tf_pred = DT_cv.predict(x_test_tf)\n",
    "\n",
    "# Plotting a Confusion Matrix in Seaborn\n",
    "conf_matrix = confusion_matrix(y_test, DT_tf_pred, labels=DT_tf.classes_)\n",
    "sns.heatmap(conf_matrix,\n",
    "            annot=True,\n",
    "            fmt='g',\n",
    "            xticklabels=DT_tf.classes_,\n",
    "            yticklabels=DT_tf.classes_,\n",
    "    )\n",
    "plt.ylabel('Prediction',fontsize=13)\n",
    "plt.xlabel('Actual',fontsize=13)\n",
    "plt.title('Confusion Matrix',fontsize=17)\n",
    "plt.show()\n",
    "# Printing the metrics on test set\n",
    "print(\"Accuracy:  %.3f\" % accuracy_score(y_test, DT_tf_pred))\n",
    "print('Precision: %.3f' % precision_score(y_test, DT_tf_pred))\n",
    "print('Recall: %.3f' % recall_score(y_test, DT_tf_pred))\n",
    "print('F1-Score: %.3f' % f1_score(y_test, DT_tf_pred))"
   ]
  },
  {
   "cell_type": "markdown",
   "metadata": {},
   "source": [
    "<b> As we see above performance of the models on test data, we can see that Logistic Regression did a much better job followed by Naive bayes and then Decision Tree.</b>"
   ]
  },
  {
   "cell_type": "markdown",
   "metadata": {},
   "source": [
    "#### Overall we can see same performance on the Bag of words and TF-IDF for each model respectively. Logistic regression is having same metrics for BOW and TF-IDF dataset and same can be observed for Naive Bayes and Decision Tree"
   ]
  }
 ],
 "metadata": {
  "kernelspec": {
   "display_name": "Python 3 (ipykernel)",
   "language": "python",
   "name": "python3"
  },
  "language_info": {
   "codemirror_mode": {
    "name": "ipython",
    "version": 3
   },
   "file_extension": ".py",
   "mimetype": "text/x-python",
   "name": "python",
   "nbconvert_exporter": "python",
   "pygments_lexer": "ipython3",
   "version": "3.9.13"
  }
 },
 "nbformat": 4,
 "nbformat_minor": 4
}
